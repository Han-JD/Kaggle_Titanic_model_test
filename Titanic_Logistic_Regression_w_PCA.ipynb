{
 "cells": [
  {
   "cell_type": "code",
   "execution_count": 1,
   "metadata": {},
   "outputs": [],
   "source": [
    "import numpy as np\n",
    "import pandas as pd\n",
    "import matplotlib.pyplot as plt"
   ]
  },
  {
   "cell_type": "code",
   "execution_count": 2,
   "metadata": {},
   "outputs": [],
   "source": [
    "inputpath = './input/'"
   ]
  },
  {
   "cell_type": "code",
   "execution_count": 3,
   "metadata": {},
   "outputs": [
    {
     "name": "stdout",
     "output_type": "stream",
     "text": [
      "(891, 12)\n",
      "(418, 11)\n",
      "(418, 2)\n",
      "train_index: 891\n"
     ]
    }
   ],
   "source": [
    "train_df = pd.read_csv(inputpath+'train.csv')\n",
    "test_df = pd.read_csv(inputpath+'test.csv')\n",
    "gender_df = pd.read_csv(inputpath+'gender_submission.csv')\n",
    "\n",
    "print(train_df.shape)\n",
    "print(test_df.shape)\n",
    "print(gender_df.shape)\n",
    "\n",
    "train_index = train_df.shape[0]\n",
    "print('train_index: ' + str(train_index))"
   ]
  },
  {
   "cell_type": "code",
   "execution_count": 4,
   "metadata": {},
   "outputs": [
    {
     "name": "stdout",
     "output_type": "stream",
     "text": [
      "   PassengerId  Survived  Pclass  \\\n",
      "0            1         0       3   \n",
      "1            2         1       1   \n",
      "2            3         1       3   \n",
      "3            4         1       1   \n",
      "4            5         0       3   \n",
      "\n",
      "                                                Name     Sex   Age  SibSp  \\\n",
      "0                            Braund, Mr. Owen Harris    male  22.0      1   \n",
      "1  Cumings, Mrs. John Bradley (Florence Briggs Th...  female  38.0      1   \n",
      "2                             Heikkinen, Miss. Laina  female  26.0      0   \n",
      "3       Futrelle, Mrs. Jacques Heath (Lily May Peel)  female  35.0      1   \n",
      "4                           Allen, Mr. William Henry    male  35.0      0   \n",
      "\n",
      "   Parch            Ticket     Fare Cabin Embarked  \n",
      "0      0         A/5 21171   7.2500   NaN        S  \n",
      "1      0          PC 17599  71.2833   C85        C  \n",
      "2      0  STON/O2. 3101282   7.9250   NaN        S  \n",
      "3      0            113803  53.1000  C123        S  \n",
      "4      0            373450   8.0500   NaN        S  \n",
      "================\n",
      "   PassengerId  Pclass                                          Name     Sex  \\\n",
      "0          892       3                              Kelly, Mr. James    male   \n",
      "1          893       3              Wilkes, Mrs. James (Ellen Needs)  female   \n",
      "2          894       2                     Myles, Mr. Thomas Francis    male   \n",
      "3          895       3                              Wirz, Mr. Albert    male   \n",
      "4          896       3  Hirvonen, Mrs. Alexander (Helga E Lindqvist)  female   \n",
      "\n",
      "    Age  SibSp  Parch   Ticket     Fare Cabin Embarked  \n",
      "0  34.5      0      0   330911   7.8292   NaN        Q  \n",
      "1  47.0      1      0   363272   7.0000   NaN        S  \n",
      "2  62.0      0      0   240276   9.6875   NaN        Q  \n",
      "3  27.0      0      0   315154   8.6625   NaN        S  \n",
      "4  22.0      1      1  3101298  12.2875   NaN        S  \n",
      "================\n",
      "   PassengerId  Survived\n",
      "0          892         0\n",
      "1          893         1\n",
      "2          894         0\n",
      "3          895         0\n",
      "4          896         1\n"
     ]
    }
   ],
   "source": [
    "# check the data\n",
    "print(train_df.head())\n",
    "print('================')\n",
    "print(test_df.head())\n",
    "print('================')\n",
    "print(gender_df.head())"
   ]
  },
  {
   "cell_type": "code",
   "execution_count": 5,
   "metadata": {},
   "outputs": [
    {
     "name": "stdout",
     "output_type": "stream",
     "text": [
      "(418, 12)\n",
      "   PassengerId  Pclass                                          Name     Sex  \\\n",
      "0          892       3                              Kelly, Mr. James    male   \n",
      "1          893       3              Wilkes, Mrs. James (Ellen Needs)  female   \n",
      "2          894       2                     Myles, Mr. Thomas Francis    male   \n",
      "3          895       3                              Wirz, Mr. Albert    male   \n",
      "4          896       3  Hirvonen, Mrs. Alexander (Helga E Lindqvist)  female   \n",
      "\n",
      "    Age  SibSp  Parch   Ticket     Fare Cabin Embarked  Survived  \n",
      "0  34.5      0      0   330911   7.8292   NaN        Q         0  \n",
      "1  47.0      1      0   363272   7.0000   NaN        S         1  \n",
      "2  62.0      0      0   240276   9.6875   NaN        Q         0  \n",
      "3  27.0      0      0   315154   8.6625   NaN        S         0  \n",
      "4  22.0      1      1  3101298  12.2875   NaN        S         1  \n"
     ]
    }
   ],
   "source": [
    "# join test_df and genger_df (test dataset) for future process\n",
    "test_df_joined = test_df.join(gender_df.set_index('PassengerId'), on='PassengerId')\n",
    "print(test_df_joined.shape)\n",
    "# expect (418,12)\n",
    "print(test_df_joined.head()) "
   ]
  },
  {
   "cell_type": "code",
   "execution_count": 6,
   "metadata": {},
   "outputs": [
    {
     "data": {
      "text/plain": [
       "count    891.000000\n",
       "mean       2.308642\n",
       "std        0.836071\n",
       "min        1.000000\n",
       "25%        2.000000\n",
       "50%        3.000000\n",
       "75%        3.000000\n",
       "max        3.000000\n",
       "Name: Pclass, dtype: float64"
      ]
     },
     "execution_count": 6,
     "metadata": {},
     "output_type": "execute_result"
    },
    {
     "data": {
      "image/png": "[encoded data removed]",
      "text/plain": [
       "<Figure size 432x288 with 1 Axes>"
      ]
     },
     "metadata": {},
     "output_type": "display_data"
    }
   ],
   "source": [
    "train_df['Pclass'].hist()\n",
    "train_df['Pclass'].describe()"
   ]
  },
  {
   "cell_type": "code",
   "execution_count": 7,
   "metadata": {},
   "outputs": [
    {
     "data": {
      "text/plain": [
       "count    714.000000\n",
       "mean      29.699118\n",
       "std       14.526497\n",
       "min        0.420000\n",
       "25%       20.125000\n",
       "50%       28.000000\n",
       "75%       38.000000\n",
       "max       80.000000\n",
       "Name: Age, dtype: float64"
      ]
     },
     "execution_count": 7,
     "metadata": {},
     "output_type": "execute_result"
    },
    {
     "data": {
      "image/png": "[encoded data removed]",
      "text/plain": [
       "<Figure size 432x288 with 1 Axes>"
      ]
     },
     "metadata": {},
     "output_type": "display_data"
    }
   ],
   "source": [
    "train_df['Age'].hist()\n",
    "train_df['Age'].describe()"
   ]
  },
  {
   "cell_type": "code",
   "execution_count": 8,
   "metadata": {},
   "outputs": [
    {
     "data": {
      "text/plain": [
       "count    891.000000\n",
       "mean       0.523008\n",
       "std        1.102743\n",
       "min        0.000000\n",
       "25%        0.000000\n",
       "50%        0.000000\n",
       "75%        1.000000\n",
       "max        8.000000\n",
       "Name: SibSp, dtype: float64"
      ]
     },
     "execution_count": 8,
     "metadata": {},
     "output_type": "execute_result"
    },
    {
     "data": {
      "image/png": "[encoded data removed]",
      "text/plain": [
       "<Figure size 432x288 with 1 Axes>"
      ]
     },
     "metadata": {},
     "output_type": "display_data"
    }
   ],
   "source": [
    "train_df['SibSp'].hist()\n",
    "train_df['SibSp'].describe()"
   ]
  },
  {
   "cell_type": "code",
   "execution_count": 9,
   "metadata": {},
   "outputs": [
    {
     "data": {
      "text/plain": [
       "count    891.000000\n",
       "mean       0.381594\n",
       "std        0.806057\n",
       "min        0.000000\n",
       "25%        0.000000\n",
       "50%        0.000000\n",
       "75%        0.000000\n",
       "max        6.000000\n",
       "Name: Parch, dtype: float64"
      ]
     },
     "execution_count": 9,
     "metadata": {},
     "output_type": "execute_result"
    },
    {
     "data": {
      "image/png": "[encoded data removed]",
      "text/plain": [
       "<Figure size 432x288 with 1 Axes>"
      ]
     },
     "metadata": {},
     "output_type": "display_data"
    }
   ],
   "source": [
    "train_df['Parch'].hist()\n",
    "train_df['Parch'].describe()"
   ]
  },
  {
   "cell_type": "code",
   "execution_count": 10,
   "metadata": {},
   "outputs": [
    {
     "data": {
      "text/plain": [
       "count    891.000000\n",
       "mean      32.204208\n",
       "std       49.693429\n",
       "min        0.000000\n",
       "25%        7.910400\n",
       "50%       14.454200\n",
       "75%       31.000000\n",
       "max      512.329200\n",
       "Name: Fare, dtype: float64"
      ]
     },
     "execution_count": 10,
     "metadata": {},
     "output_type": "execute_result"
    },
    {
     "data": {
      "image/png": "[encoded data removed]",
      "text/plain": [
       "<Figure size 432x288 with 1 Axes>"
      ]
     },
     "metadata": {},
     "output_type": "display_data"
    }
   ],
   "source": [
    "train_df['Fare'].hist()\n",
    "train_df['Fare'].describe()"
   ]
  },
  {
   "cell_type": "code",
   "execution_count": 11,
   "metadata": {},
   "outputs": [
    {
     "name": "stdout",
     "output_type": "stream",
     "text": [
      "(1309, 12)\n"
     ]
    },
    {
     "name": "stderr",
     "output_type": "stream",
     "text": [
      "C:\\Users\\woare\\Anaconda3\\lib\\site-packages\\pandas\\core\\frame.py:6201: FutureWarning: Sorting because non-concatenation axis is not aligned. A future version\n",
      "of pandas will change to not sort by default.\n",
      "\n",
      "To accept the future behavior, pass 'sort=True'.\n",
      "\n",
      "To retain the current behavior and silence the warning, pass sort=False\n",
      "\n",
      "  sort=sort)\n"
     ]
    }
   ],
   "source": [
    "total_df = train_df.append(test_df_joined)\n",
    "print(total_df.shape)\n",
    "#(1309, 12)"
   ]
  },
  {
   "cell_type": "code",
   "execution_count": 12,
   "metadata": {},
   "outputs": [
    {
     "data": {
      "text/plain": [
       "Age             263\n",
       "Cabin          1014\n",
       "Embarked          2\n",
       "Fare              1\n",
       "Name              0\n",
       "Parch             0\n",
       "PassengerId       0\n",
       "Pclass            0\n",
       "Sex               0\n",
       "SibSp             0\n",
       "Survived          0\n",
       "Ticket            0\n",
       "dtype: int64"
      ]
     },
     "execution_count": 12,
     "metadata": {},
     "output_type": "execute_result"
    }
   ],
   "source": [
    "# check the nan data\n",
    "total_df.isnull().sum()"
   ]
  },
  {
   "cell_type": "code",
   "execution_count": 13,
   "metadata": {},
   "outputs": [
    {
     "data": {
      "image/png": "[encoded data removed]",
      "text/plain": [
       "<Figure size 432x288 with 1 Axes>"
      ]
     },
     "metadata": {},
     "output_type": "display_data"
    }
   ],
   "source": [
    "# find the replaceable data for the nan in the age.\n",
    "# check the current data\n",
    "ax = total_df[\"Age\"].hist(bins=15, density=True, stacked=True, alpha=0.6)\n",
    "total_df[\"Age\"].plot(kind='density')\n",
    "plt.xlim(0, total_df.Age.max())\n",
    "plt.show()"
   ]
  },
  {
   "cell_type": "code",
   "execution_count": 14,
   "metadata": {},
   "outputs": [
    {
     "name": "stdout",
     "output_type": "stream",
     "text": [
      "28.0\n"
     ]
    }
   ],
   "source": [
    "# The data is skewed. the nan will be replace with median.\n",
    "age_replace = total_df[\"Age\"].median()\n",
    "print(age_replace)"
   ]
  },
  {
   "cell_type": "code",
   "execution_count": 15,
   "metadata": {},
   "outputs": [
    {
     "data": {
      "text/plain": [
       "S    914\n",
       "C    270\n",
       "Q    123\n",
       "Name: Embarked, dtype: int64"
      ]
     },
     "execution_count": 15,
     "metadata": {},
     "output_type": "execute_result"
    }
   ],
   "source": [
    "# find the replaceable data for the nan in the Embarked.\n",
    "total_df.Embarked.value_counts()"
   ]
  },
  {
   "cell_type": "code",
   "execution_count": 16,
   "metadata": {},
   "outputs": [
    {
     "name": "stdout",
     "output_type": "stream",
     "text": [
      "S\n"
     ]
    }
   ],
   "source": [
    "embarked_replace = total_df.Embarked.value_counts().idxmax()\n",
    "print(embarked_replace)"
   ]
  },
  {
   "cell_type": "code",
   "execution_count": 17,
   "metadata": {},
   "outputs": [
    {
     "data": {
      "image/png": "[encoded data removed]",
      "text/plain": [
       "<Figure size 432x288 with 1 Axes>"
      ]
     },
     "metadata": {},
     "output_type": "display_data"
    }
   ],
   "source": [
    "# find the replaceable data for the nan in the Fare.\n",
    "# check the current data\n",
    "ax = total_df.Fare.hist(bins=15, density=True, stacked=True, alpha=0.6)\n",
    "total_df.Fare.plot(kind='density')\n",
    "plt.xlim(0, total_df.Fare.max())\n",
    "plt.show()"
   ]
  },
  {
   "cell_type": "code",
   "execution_count": 18,
   "metadata": {},
   "outputs": [
    {
     "name": "stdout",
     "output_type": "stream",
     "text": [
      "14.4542\n"
     ]
    }
   ],
   "source": [
    "fare_replace = total_df.Fare.median()\n",
    "print(fare_replace)"
   ]
  },
  {
   "cell_type": "code",
   "execution_count": 19,
   "metadata": {},
   "outputs": [
    {
     "data": {
      "text/plain": [
       "Age               0\n",
       "Cabin          1014\n",
       "Embarked          0\n",
       "Fare              0\n",
       "Name              0\n",
       "Parch             0\n",
       "PassengerId       0\n",
       "Pclass            0\n",
       "Sex               0\n",
       "SibSp             0\n",
       "Survived          0\n",
       "Ticket            0\n",
       "dtype: int64"
      ]
     },
     "execution_count": 19,
     "metadata": {},
     "output_type": "execute_result"
    }
   ],
   "source": [
    "# fill nan data to replace value\n",
    "total_df.Age.fillna(age_replace, inplace=True)\n",
    "total_df.Embarked.fillna(embarked_replace, inplace=True)\n",
    "total_df.Fare.fillna(fare_replace, inplace=True)\n",
    "\n",
    "total_df.isnull().sum()"
   ]
  },
  {
   "cell_type": "code",
   "execution_count": 20,
   "metadata": {},
   "outputs": [],
   "source": [
    "'''\n",
    "define filler function for data.\n",
    "\n",
    "Change Sex col. male to 1, female to 0\n",
    "change embarked col. C,Q,S to 0,1,2\n",
    "\n",
    "''' \n",
    "def SE_filter(df):\n",
    "    for row_index, value in df.iterrows():\n",
    "        # Change Sex col. male to 1, female to 0\n",
    "        if value.Sex == 'male':\n",
    "            df.at[row_index, 'Sex'] = 1\n",
    "        elif value.Sex == 'female':\n",
    "            df.at[row_index, 'Sex'] = 0\n",
    "        \n",
    "        # change embarked col. C,Q,S to 0,1,2\n",
    "        if value.Embarked == 'C':\n",
    "            df.at[row_index, 'Embarked'] = 0\n",
    "        elif value.Embarked == 'Q':\n",
    "            df.at[row_index, 'Embarked'] = 1\n",
    "        elif value.Embarked == 'S':\n",
    "            df.at[row_index, 'Embarked'] = 2\n",
    "    \n",
    "    df = df.drop(columns=['PassengerId', 'Name', 'Ticket', 'Cabin'])\n",
    "        \n",
    "    return df"
   ]
  },
  {
   "cell_type": "code",
   "execution_count": 21,
   "metadata": {},
   "outputs": [],
   "source": [
    "# replace Sex and Embarked to number\n",
    "# drop 'PassengerId', 'Name', 'Ticket', 'Cabin'\n",
    "total_df = SE_filter(total_df)\n",
    "\n",
    "# print(total_df.Sex)\n",
    "# print(total_df.Embarked)"
   ]
  },
  {
   "cell_type": "code",
   "execution_count": 22,
   "metadata": {},
   "outputs": [
    {
     "name": "stdout",
     "output_type": "stream",
     "text": [
      "(1309,)\n",
      "(1309, 7)\n"
     ]
    }
   ],
   "source": [
    "total_df_y = total_df.Survived.copy()\n",
    "total_df_x = total_df.drop(columns=['Survived'])\n",
    "\n",
    "print(total_df_y.shape)\n",
    "print(total_df_x.shape)"
   ]
  },
  {
   "cell_type": "code",
   "execution_count": 23,
   "metadata": {},
   "outputs": [
    {
     "data": {
      "text/html": [
       "<div>\n",
       "<style scoped>\n",
       "    .dataframe tbody tr th:only-of-type {\n",
       "        vertical-align: middle;\n",
       "    }\n",
       "\n",
       "    .dataframe tbody tr th {\n",
       "        vertical-align: top;\n",
       "    }\n",
       "\n",
       "    .dataframe thead th {\n",
       "        text-align: right;\n",
       "    }\n",
       "</style>\n",
       "<table border=\"1\" class=\"dataframe\">\n",
       "  <thead>\n",
       "    <tr style=\"text-align: right;\">\n",
       "      <th></th>\n",
       "      <th>Age</th>\n",
       "      <th>Embarked</th>\n",
       "      <th>Fare</th>\n",
       "      <th>Parch</th>\n",
       "      <th>Pclass</th>\n",
       "      <th>Sex</th>\n",
       "      <th>SibSp</th>\n",
       "    </tr>\n",
       "  </thead>\n",
       "  <tbody>\n",
       "    <tr>\n",
       "      <th>0</th>\n",
       "      <td>22.0</td>\n",
       "      <td>1</td>\n",
       "      <td>7.2500</td>\n",
       "      <td>0</td>\n",
       "      <td>3</td>\n",
       "      <td>1</td>\n",
       "      <td>1</td>\n",
       "    </tr>\n",
       "    <tr>\n",
       "      <th>1</th>\n",
       "      <td>38.0</td>\n",
       "      <td>2</td>\n",
       "      <td>71.2833</td>\n",
       "      <td>0</td>\n",
       "      <td>1</td>\n",
       "      <td>0</td>\n",
       "      <td>1</td>\n",
       "    </tr>\n",
       "    <tr>\n",
       "      <th>2</th>\n",
       "      <td>26.0</td>\n",
       "      <td>1</td>\n",
       "      <td>7.9250</td>\n",
       "      <td>0</td>\n",
       "      <td>3</td>\n",
       "      <td>1</td>\n",
       "      <td>0</td>\n",
       "    </tr>\n",
       "    <tr>\n",
       "      <th>3</th>\n",
       "      <td>35.0</td>\n",
       "      <td>2</td>\n",
       "      <td>53.1000</td>\n",
       "      <td>0</td>\n",
       "      <td>1</td>\n",
       "      <td>1</td>\n",
       "      <td>1</td>\n",
       "    </tr>\n",
       "    <tr>\n",
       "      <th>4</th>\n",
       "      <td>35.0</td>\n",
       "      <td>2</td>\n",
       "      <td>8.0500</td>\n",
       "      <td>0</td>\n",
       "      <td>3</td>\n",
       "      <td>0</td>\n",
       "      <td>0</td>\n",
       "    </tr>\n",
       "  </tbody>\n",
       "</table>\n",
       "</div>"
      ],
      "text/plain": [
       "    Age Embarked     Fare  Parch  Pclass Sex  SibSp\n",
       "0  22.0        1   7.2500      0       3   1      1\n",
       "1  38.0        2  71.2833      0       1   0      1\n",
       "2  26.0        1   7.9250      0       3   1      0\n",
       "3  35.0        2  53.1000      0       1   1      1\n",
       "4  35.0        2   8.0500      0       3   0      0"
      ]
     },
     "execution_count": 23,
     "metadata": {},
     "output_type": "execute_result"
    }
   ],
   "source": [
    "total_df_x.head()"
   ]
  },
  {
   "cell_type": "code",
   "execution_count": 24,
   "metadata": {},
   "outputs": [
    {
     "data": {
      "text/plain": [
       "Age         3.835740e-17\n",
       "Embarked    2.317135e-16\n",
       "Fare       -6.679997e-16\n",
       "Parch      -5.920059e-17\n",
       "Pclass     -4.829343e-16\n",
       "Sex         1.969395e-16\n",
       "SibSp       2.178887e-16\n",
       "dtype: float64"
      ]
     },
     "execution_count": 24,
     "metadata": {},
     "output_type": "execute_result"
    }
   ],
   "source": [
    "# data normailzation\n",
    "total_df_x_norm = (total_df_x - total_df_x.mean())/total_df_x.std()\n",
    "\n",
    "total_df_x_norm.mean()"
   ]
  },
  {
   "cell_type": "code",
   "execution_count": 25,
   "metadata": {},
   "outputs": [
    {
     "data": {
      "text/plain": [
       "Age         1.0\n",
       "Embarked    1.0\n",
       "Fare        1.0\n",
       "Parch       1.0\n",
       "Pclass      1.0\n",
       "Sex         1.0\n",
       "SibSp       1.0\n",
       "dtype: float64"
      ]
     },
     "execution_count": 25,
     "metadata": {},
     "output_type": "execute_result"
    }
   ],
   "source": [
    "total_df_x_norm.std()**2"
   ]
  },
  {
   "cell_type": "code",
   "execution_count": 26,
   "metadata": {},
   "outputs": [
    {
     "data": {
      "text/plain": [
       "Age         float64\n",
       "Embarked     object\n",
       "Fare        float64\n",
       "Parch       float64\n",
       "Pclass      float64\n",
       "Sex          object\n",
       "SibSp       float64\n",
       "dtype: object"
      ]
     },
     "execution_count": 26,
     "metadata": {},
     "output_type": "execute_result"
    }
   ],
   "source": [
    "total_df_x_norm.dtypes"
   ]
  },
  {
   "cell_type": "code",
   "execution_count": 27,
   "metadata": {},
   "outputs": [
    {
     "data": {
      "text/plain": [
       "Age         float64\n",
       "Embarked    float64\n",
       "Fare        float64\n",
       "Parch       float64\n",
       "Pclass      float64\n",
       "Sex         float64\n",
       "SibSp       float64\n",
       "dtype: object"
      ]
     },
     "execution_count": 27,
     "metadata": {},
     "output_type": "execute_result"
    }
   ],
   "source": [
    "# change object type to number type\n",
    "total_df_x_norm.Embarked = pd.to_numeric(total_df_x_norm.Embarked)\n",
    "total_df_x_norm.Sex = pd.to_numeric(total_df_x_norm.Sex)\n",
    "total_df_x_norm.dtypes"
   ]
  },
  {
   "cell_type": "code",
   "execution_count": 28,
   "metadata": {},
   "outputs": [
    {
     "name": "stdout",
     "output_type": "stream",
     "text": [
      "(1309, 7)\n",
      "<class 'numpy.ndarray'>\n",
      "float64\n",
      "-----------\n",
      "(1309,)\n",
      "<class 'numpy.ndarray'>\n",
      "int64\n"
     ]
    }
   ],
   "source": [
    "# datafram to numpy array\n",
    "total_x = total_df_x_norm.values\n",
    "total_y = total_df_y.values\n",
    "\n",
    "print(total_x.shape)\n",
    "print(type(total_x))\n",
    "print(total_x.dtype)\n",
    "print('-----------')\n",
    "print(total_y.shape)\n",
    "print(type(total_y))\n",
    "print(total_y.dtype)"
   ]
  },
  {
   "cell_type": "code",
   "execution_count": 29,
   "metadata": {},
   "outputs": [
    {
     "name": "stdout",
     "output_type": "stream",
     "text": [
      "(1309, 7)\n",
      "(1309,)\n"
     ]
    }
   ],
   "source": [
    "# save the data\n",
    "np.save(inputpath+'total_x', total_x)\n",
    "np.save(inputpath+'total_y', total_y)\n",
    "\n",
    "# load the data\n",
    "loaded_x = np.load(inputpath+'total_x.npy')\n",
    "loaded_y = np.load(inputpath+'total_y.npy')\n",
    "\n",
    "print(loaded_x.shape)\n",
    "print(loaded_y.shape)"
   ]
  },
  {
   "cell_type": "code",
   "execution_count": 30,
   "metadata": {},
   "outputs": [],
   "source": [
    "import numpy as np\n",
    "import matplotlib.pyplot as plt\n",
    "import torch\n",
    "import torch.nn as nn\n",
    "import torch.nn.functional as F\n",
    "import torch.utils.data as utils\n",
    "from torch.autograd import Variable\n",
    "from sklearn import metrics\n",
    "from sklearn.decomposition import PCA"
   ]
  },
  {
   "cell_type": "code",
   "execution_count": 31,
   "metadata": {},
   "outputs": [
    {
     "name": "stdout",
     "output_type": "stream",
     "text": [
      "(1309, 7)\n",
      "(1309,)\n"
     ]
    }
   ],
   "source": [
    "# load the data\n",
    "inputpath = './input/'\n",
    "train_index = 891\n",
    "loaded_x = np.load(inputpath+'total_x.npy')\n",
    "loaded_y = np.load(inputpath+'total_y.npy')\n",
    "\n",
    "lr_loaded_x = loaded_x\n",
    "\n",
    "print(loaded_x.shape)\n",
    "print(loaded_y.shape)"
   ]
  },
  {
   "cell_type": "code",
   "execution_count": 32,
   "metadata": {},
   "outputs": [
    {
     "data": {
      "text/plain": [
       "(891, 7)"
      ]
     },
     "execution_count": 32,
     "metadata": {},
     "output_type": "execute_result"
    }
   ],
   "source": [
    "# sprit the data for PCA fit\n",
    "train_x = loaded_x[:train_index, :]\n",
    "train_x.shape"
   ]
  },
  {
   "cell_type": "code",
   "execution_count": 33,
   "metadata": {},
   "outputs": [
    {
     "data": {
      "image/png": "[encoded data removed]",
      "text/plain": [
       "<Figure size 432x288 with 1 Axes>"
      ]
     },
     "metadata": {},
     "output_type": "display_data"
    }
   ],
   "source": [
    "# check how many components could be reduced.\n",
    "pca = PCA().fit(train_x)\n",
    "\n",
    "plt.figure()\n",
    "plt.plot(np.cumsum(pca.explained_variance_ratio_))\n",
    "plt.xlabel('Number of components')\n",
    "plt.ylabel('variance(%)')\n",
    "plt.title('Titanic data explanined variance')\n",
    "plt.show()"
   ]
  },
  {
   "cell_type": "code",
   "execution_count": 34,
   "metadata": {},
   "outputs": [
    {
     "data": {
      "text/plain": [
       "(1309, 6)"
      ]
     },
     "execution_count": 34,
     "metadata": {},
     "output_type": "execute_result"
    }
   ],
   "source": [
    "# to catch close to 99% and more than 90%. therefore k = 6\n",
    "k = 6\n",
    "pca = PCA(n_components=k)\n",
    "\n",
    "# train with train data and apply to all data.\n",
    "pca.fit(train_x)\n",
    "pca_loaded_x = pca.transform(loaded_x)\n",
    "pca_loaded_x.shape"
   ]
  },
  {
   "cell_type": "code",
   "execution_count": 35,
   "metadata": {},
   "outputs": [],
   "source": [
    "def data_dataloader(data, label, train_index):\n",
    "    \n",
    "    dev_index = int(np.float(train_index * 0.85))\n",
    "    \n",
    "    # split data to train and test set\n",
    "    train_data = data[:train_index,:]\n",
    "    train_label = label[:train_index]\n",
    "    dev_data = train_data[dev_index:,:]\n",
    "    dev_label = train_label[dev_index:]\n",
    "    test_data = data[train_index:,:]\n",
    "    test_label = label[train_index:]\n",
    "    \n",
    "    '''\n",
    "    print(train_data.shape)\n",
    "    print(train_label.shape)\n",
    "    print(dev_data.shape)\n",
    "    print(dev_label.shape)\n",
    "    print(test_data.shape)\n",
    "    print(test_label.shape)\n",
    "    '''\n",
    "    \n",
    "    # np_array to tensor\n",
    "    train_data, train_label = torch.Tensor(train_data), torch.Tensor(train_label)\n",
    "    dev_data, dev_label = torch.Tensor(dev_data), torch.Tensor(dev_label)\n",
    "    test_data, test_label = torch.Tensor(test_data), torch.Tensor(test_label)\n",
    "    \n",
    "    # tensor to dataset\n",
    "    train_dataset = utils.TensorDataset(train_data, train_label)\n",
    "    dev_dataset = utils.TensorDataset(dev_data, dev_label)\n",
    "    test_dataset = utils.TensorDataset(test_data, test_label)\n",
    "    \n",
    "    # dataset to dataloader\n",
    "    train_dataloader = utils.DataLoader(train_dataset)\n",
    "    dev_dataloader = utils.DataLoader(dev_dataset)\n",
    "    test_dataloader = utils.DataLoader(test_dataset)\n",
    "    \n",
    "    return train_dataloader, dev_dataloader, test_dataloader"
   ]
  },
  {
   "cell_type": "code",
   "execution_count": 36,
   "metadata": {},
   "outputs": [],
   "source": [
    "# take data and produce dataloaders\n",
    "lr_train_dataloader, lr_dev_dataloader, lr_test_dataloader = data_dataloader(lr_loaded_x, loaded_y, train_index=train_index)\n",
    "pca_train_dataloader, pca_dev_dataloader, pca_test_dataloader = data_dataloader(pca_loaded_x, loaded_y, train_index=train_index)"
   ]
  },
  {
   "cell_type": "code",
   "execution_count": 37,
   "metadata": {},
   "outputs": [],
   "source": [
    "# set variables \n",
    "lr_input_size = lr_loaded_x.shape[1]\n",
    "pca_input_size = pca_loaded_x.shape[1]\n",
    "output_size = 1\n",
    "num_epochs = 5\n",
    "learning_rate = 0.1"
   ]
  },
  {
   "cell_type": "code",
   "execution_count": 38,
   "metadata": {},
   "outputs": [],
   "source": [
    "# create the model for Logistic Regression \n",
    "class LogisticRegression(nn.Module):\n",
    "    def __init__(self, input_size, output_size):\n",
    "        super(LogisticRegression, self).__init__()\n",
    "        self.linear = nn.Linear(input_size, output_size)\n",
    "        \n",
    "    def forward(self, x):\n",
    "        return F.sigmoid(self.linear(x))"
   ]
  },
  {
   "cell_type": "code",
   "execution_count": 39,
   "metadata": {},
   "outputs": [],
   "source": [
    "# set model, criterion, and optimizer.\n",
    "lr_model = LogisticRegression(lr_input_size, output_size)\n",
    "pca_model = LogisticRegression(pca_input_size, output_size)\n",
    "\n",
    "criterion = nn.BCELoss()\n",
    "lr_optimizer = torch.optim.SGD(lr_model.parameters(), lr=learning_rate)\n",
    "pca_optimizer = torch.optim.SGD(pca_model.parameters(), lr=learning_rate)\n"
   ]
  },
  {
   "cell_type": "code",
   "execution_count": 40,
   "metadata": {},
   "outputs": [],
   "source": [
    "def train(model, num_epochs, criterion, optimizer, train_dataloader, dev_dataloader, test_dataloader):\n",
    "    for epoch in range(num_epochs):\n",
    "        for i, (train_data, train_label) in enumerate(train_dataloader):\n",
    "\n",
    "            y_pred = model(train_data)\n",
    "\n",
    "            loss = criterion(y_pred, train_label)\n",
    "\n",
    "            optimizer.zero_grad()\n",
    "            loss.backward()\n",
    "            optimizer.step()\n",
    "\n",
    "    correct = 0\n",
    "    total = 0\n",
    "\n",
    "    for dev_data, dev_label in dev_dataloader:\n",
    "\n",
    "        output = model(dev_data)\n",
    "        output = output.round()\n",
    "        total += dev_label.size(0)\n",
    "        correct += (output == dev_label).sum()\n",
    "\n",
    "    print('In the Dev, Accuracy: {:.4f}%, correct: {}, total: {}'.format((100 * correct.item() / total), correct, total))\n",
    "\n",
    "\n",
    "    correct = 0\n",
    "    total = 0\n",
    "\n",
    "    outputs, labels = [], []\n",
    "\n",
    "\n",
    "    for test_data, test_label in test_dataloader:\n",
    "\n",
    "        output = model(test_data)\n",
    "        output = output.round()\n",
    "        total += test_label.size(0)\n",
    "        correct += (output == test_label).sum()\n",
    "\n",
    "        outputs.append(output.item())\n",
    "        labels.append(test_label.item())\n",
    "        \n",
    "    precision = metrics.average_precision_score(labels, outputs)\n",
    "    recall = metrics.recall_score(labels, outputs)\n",
    "\n",
    "    print('In the test, Accuracy: {:.4f}%, Precision: {:.4f}%, recall: {:.4f}%, correct: {}, total: {}'.format((100 * correct.item() / total), precision, recall, correct, total))\n",
    "    \n",
    "    return outputs, labels"
   ]
  },
  {
   "cell_type": "code",
   "execution_count": 41,
   "metadata": {},
   "outputs": [
    {
     "name": "stdout",
     "output_type": "stream",
     "text": [
      "----in pure Logistic_Regression----\n"
     ]
    },
    {
     "name": "stderr",
     "output_type": "stream",
     "text": [
      "C:\\Users\\woare\\Anaconda3\\lib\\site-packages\\torch\\nn\\functional.py:1006: UserWarning: nn.functional.sigmoid is deprecated. Use torch.sigmoid instead.\n",
      "  warnings.warn(\"nn.functional.sigmoid is deprecated. Use torch.sigmoid instead.\")\n",
      "C:\\Users\\woare\\Anaconda3\\lib\\site-packages\\torch\\nn\\functional.py:1594: UserWarning: Using a target size (torch.Size([1])) that is different to the input size (torch.Size([1, 1])) is deprecated. Please ensure they have the same size.\n",
      "  \"Please ensure they have the same size.\".format(target.size(), input.size()))\n"
     ]
    },
    {
     "name": "stdout",
     "output_type": "stream",
     "text": [
      "In the Dev, Accuracy: 82.8358%, correct: 111, total: 134\n",
      "In the test, Accuracy: 82.2967%, Precision: 0.6610%, recall: 0.7632%, correct: 344, total: 418\n",
      "----in Logistic_Regression with PCA----\n",
      "In the Dev, Accuracy: 82.8358%, correct: 111, total: 134\n",
      "In the test, Accuracy: 83.9713%, Precision: 0.6876%, recall: 0.8026%, correct: 351, total: 418\n"
     ]
    }
   ],
   "source": [
    "print('----in pure Logistic_Regression----')\n",
    "lr_outputs, lr_labels = train(lr_model, num_epochs, criterion, lr_optimizer, lr_train_dataloader, lr_dev_dataloader, lr_test_dataloader)\n",
    "print('----in Logistic_Regression with PCA----')\n",
    "pca_outputs, pca_labels = train(pca_model, num_epochs, criterion, pca_optimizer,  pca_train_dataloader, pca_dev_dataloader, pca_test_dataloader)\n",
    "\n",
    "outputs = []\n",
    "labels = []\n",
    "\n",
    "outputs.append(np.asarray(lr_outputs))\n",
    "outputs.append(np.asarray(pca_outputs))\n",
    "outputs = np.asarray(outputs)\n",
    "\n",
    "labels.append(np.asarray(lr_labels))\n",
    "labels.append(np.asarray(pca_labels))\n",
    "labels = np.asarray(labels)"
   ]
  },
  {
   "cell_type": "code",
   "execution_count": 42,
   "metadata": {},
   "outputs": [],
   "source": [
    "def plot_roc_and_auc_score(outputs, labels, title):\n",
    "    \n",
    "    # plot for LR\n",
    "    lr_false_positive_rate, lr_true_positive_rate, threshold = metrics.roc_curve(labels[0], outputs[0])\n",
    "    lr_auc_score = metrics.roc_auc_score(labels[0], outputs[0])\n",
    "    plt.plot(lr_false_positive_rate, lr_true_positive_rate, label = 'Pure LR, AREA = {:.4f}'.format(lr_auc_score))\n",
    "    \n",
    "    # plot for PCA\n",
    "    pca_false_positive_rate, pca_true_positive_rate, threshold = metrics.roc_curve(labels[1], outputs[1])\n",
    "    pca_auc_score = metrics.roc_auc_score(labels[1], outputs[1])\n",
    "    plt.plot(pca_false_positive_rate, pca_true_positive_rate, label = 'LR w PCA, AREA = {:.4f}'.format(pca_auc_score))\n",
    "    \n",
    "    \n",
    "    plt.plot([0,1], [0,1], 'red')\n",
    "    plt.xlabel('False Positive Rate')\n",
    "    plt.ylabel('True Positive Rate')\n",
    "    plt.axis([0, 1, 0, 1])\n",
    "    plt.title(title)\n",
    "    plt.legend(loc = 'lower right')\n",
    "    plt.show()"
   ]
  },
  {
   "cell_type": "code",
   "execution_count": 43,
   "metadata": {},
   "outputs": [
    {
     "data": {
      "image/png": "[encoded data removed]",
      "text/plain": [
       "<Figure size 432x288 with 1 Axes>"
      ]
     },
     "metadata": {},
     "output_type": "display_data"
    }
   ],
   "source": [
    "plot_roc_and_auc_score(outputs, labels, title = 'ROC curve with AUC score')"
   ]
  }
 ],
 "metadata": {
  "kernelspec": {
   "display_name": "Python 3",
   "language": "python",
   "name": "python3"
  },
  "language_info": {
   "codemirror_mode": {
    "name": "ipython",
    "version": 3
   },
   "file_extension": ".py",
   "mimetype": "text/x-python",
   "name": "python",
   "nbconvert_exporter": "python",
   "pygments_lexer": "ipython3",
   "version": "3.6.5"
  }
 },
 "nbformat": 4,
 "nbformat_minor": 2
}
